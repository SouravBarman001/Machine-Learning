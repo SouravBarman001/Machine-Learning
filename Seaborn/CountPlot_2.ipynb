{
 "cells": [
  {
   "cell_type": "code",
   "execution_count": 1,
   "metadata": {},
   "outputs": [],
   "source": [
    "# CategoricalPlot\n",
    "# 1.Countplot\n",
    "# 2.Barplot\n",
    "# 3.Boxplot\n",
    "# 4.Violinplot\n",
    "# 5.Stripplot\n",
    "# 6.Swarmplot\n",
    "# 7.Factorplot\n"
   ]
  },
  {
   "cell_type": "code",
   "execution_count": 3,
   "metadata": {},
   "outputs": [],
   "source": [
    "import pandas as pd\n",
    "import numpy as np\n",
    "import matplotlib.pyplot as plt\n",
    "import seaborn as sns"
   ]
  },
  {
   "cell_type": "code",
   "execution_count": 5,
   "metadata": {},
   "outputs": [
    {
     "data": {
      "text/html": [
       "<div>\n",
       "<style scoped>\n",
       "    .dataframe tbody tr th:only-of-type {\n",
       "        vertical-align: middle;\n",
       "    }\n",
       "\n",
       "    .dataframe tbody tr th {\n",
       "        vertical-align: top;\n",
       "    }\n",
       "\n",
       "    .dataframe thead th {\n",
       "        text-align: right;\n",
       "    }\n",
       "</style>\n",
       "<table border=\"1\" class=\"dataframe\">\n",
       "  <thead>\n",
       "    <tr style=\"text-align: right;\">\n",
       "      <th></th>\n",
       "      <th>Invoice ID</th>\n",
       "      <th>Branch</th>\n",
       "      <th>City</th>\n",
       "      <th>Customer type</th>\n",
       "      <th>Gender</th>\n",
       "      <th>Product line</th>\n",
       "      <th>Unit price</th>\n",
       "      <th>Quantity</th>\n",
       "      <th>Tax 5%</th>\n",
       "      <th>Total</th>\n",
       "      <th>Date</th>\n",
       "      <th>Time</th>\n",
       "      <th>Payment</th>\n",
       "      <th>cogs</th>\n",
       "      <th>gross margin percentage</th>\n",
       "      <th>gross income</th>\n",
       "      <th>Rating</th>\n",
       "    </tr>\n",
       "  </thead>\n",
       "  <tbody>\n",
       "    <tr>\n",
       "      <th>0</th>\n",
       "      <td>692-92-5582</td>\n",
       "      <td>B</td>\n",
       "      <td>Mandalay</td>\n",
       "      <td>Member</td>\n",
       "      <td>Female</td>\n",
       "      <td>Food_and_beverages</td>\n",
       "      <td>54.84</td>\n",
       "      <td>3</td>\n",
       "      <td>8.226</td>\n",
       "      <td>172.746</td>\n",
       "      <td>2/20/2019</td>\n",
       "      <td>13:27:00</td>\n",
       "      <td>Credit card</td>\n",
       "      <td>164.52</td>\n",
       "      <td>4.761905</td>\n",
       "      <td>8.226</td>\n",
       "      <td>5.9</td>\n",
       "    </tr>\n",
       "    <tr>\n",
       "      <th>1</th>\n",
       "      <td>351-62-0822</td>\n",
       "      <td>B</td>\n",
       "      <td>Mandalay</td>\n",
       "      <td>Member</td>\n",
       "      <td>Female</td>\n",
       "      <td>Fashion_accessories</td>\n",
       "      <td>14.48</td>\n",
       "      <td>4</td>\n",
       "      <td>2.896</td>\n",
       "      <td>60.816</td>\n",
       "      <td>2019-06-02 00:00:00</td>\n",
       "      <td>18:07:00</td>\n",
       "      <td>Ewallet</td>\n",
       "      <td>57.92</td>\n",
       "      <td>4.761905</td>\n",
       "      <td>2.896</td>\n",
       "      <td>4.5</td>\n",
       "    </tr>\n",
       "    <tr>\n",
       "      <th>2</th>\n",
       "      <td>529-56-3974</td>\n",
       "      <td>B</td>\n",
       "      <td>Mandalay</td>\n",
       "      <td>Member</td>\n",
       "      <td>Male</td>\n",
       "      <td>Electronic_accessories</td>\n",
       "      <td>25.51</td>\n",
       "      <td>4</td>\n",
       "      <td>5.102</td>\n",
       "      <td>107.142</td>\n",
       "      <td>2019-09-03 00:00:00</td>\n",
       "      <td>17:03:00</td>\n",
       "      <td>Cash</td>\n",
       "      <td>102.04</td>\n",
       "      <td>4.761905</td>\n",
       "      <td>5.102</td>\n",
       "      <td>6.8</td>\n",
       "    </tr>\n",
       "    <tr>\n",
       "      <th>3</th>\n",
       "      <td>299-46-1805</td>\n",
       "      <td>B</td>\n",
       "      <td>Mandalay</td>\n",
       "      <td>Member</td>\n",
       "      <td>Female</td>\n",
       "      <td>Sports_and_travel</td>\n",
       "      <td>93.72</td>\n",
       "      <td>6</td>\n",
       "      <td>28.116</td>\n",
       "      <td>590.436</td>\n",
       "      <td>1/15/2019</td>\n",
       "      <td>16:19:00</td>\n",
       "      <td>Cash</td>\n",
       "      <td>562.32</td>\n",
       "      <td>4.761905</td>\n",
       "      <td>28.116</td>\n",
       "      <td>4.5</td>\n",
       "    </tr>\n",
       "    <tr>\n",
       "      <th>4</th>\n",
       "      <td>319-50-3348</td>\n",
       "      <td>B</td>\n",
       "      <td>Mandalay</td>\n",
       "      <td>Normal</td>\n",
       "      <td>Female</td>\n",
       "      <td>Home_and_lifestyle</td>\n",
       "      <td>40.30</td>\n",
       "      <td>2</td>\n",
       "      <td>4.030</td>\n",
       "      <td>84.630</td>\n",
       "      <td>2019-11-03 00:00:00</td>\n",
       "      <td>15:30:00</td>\n",
       "      <td>Ewallet</td>\n",
       "      <td>80.60</td>\n",
       "      <td>4.761905</td>\n",
       "      <td>4.030</td>\n",
       "      <td>4.4</td>\n",
       "    </tr>\n",
       "  </tbody>\n",
       "</table>\n",
       "</div>"
      ],
      "text/plain": [
       "    Invoice ID Branch      City Customer type  Gender            Product line  \\\n",
       "0  692-92-5582      B  Mandalay        Member  Female      Food_and_beverages   \n",
       "1  351-62-0822      B  Mandalay        Member  Female     Fashion_accessories   \n",
       "2  529-56-3974      B  Mandalay        Member    Male  Electronic_accessories   \n",
       "3  299-46-1805      B  Mandalay        Member  Female       Sports_and_travel   \n",
       "4  319-50-3348      B  Mandalay        Normal  Female      Home_and_lifestyle   \n",
       "\n",
       "   Unit price  Quantity  Tax 5%    Total                 Date      Time  \\\n",
       "0       54.84         3   8.226  172.746            2/20/2019  13:27:00   \n",
       "1       14.48         4   2.896   60.816  2019-06-02 00:00:00  18:07:00   \n",
       "2       25.51         4   5.102  107.142  2019-09-03 00:00:00  17:03:00   \n",
       "3       93.72         6  28.116  590.436            1/15/2019  16:19:00   \n",
       "4       40.30         2   4.030   84.630  2019-11-03 00:00:00  15:30:00   \n",
       "\n",
       "       Payment    cogs  gross margin percentage  gross income  Rating  \n",
       "0  Credit card  164.52                 4.761905         8.226     5.9  \n",
       "1      Ewallet   57.92                 4.761905         2.896     4.5  \n",
       "2         Cash  102.04                 4.761905         5.102     6.8  \n",
       "3         Cash  562.32                 4.761905        28.116     4.5  \n",
       "4      Ewallet   80.60                 4.761905         4.030     4.4  "
      ]
     },
     "execution_count": 5,
     "metadata": {},
     "output_type": "execute_result"
    }
   ],
   "source": [
    "dataFrame = pd.read_excel(\"supermarket_sales.xlsx\")\n",
    "dataFrame.head()"
   ]
  },
  {
   "cell_type": "markdown",
   "metadata": {},
   "source": [
    "#### 1.Create a basic COUNTPLOT to get number of transaction for each of the product line and change the figure size"
   ]
  },
  {
   "cell_type": "code",
   "execution_count": 9,
   "metadata": {},
   "outputs": [
    {
     "data": {
      "text/plain": [
       "<matplotlib.axes._subplots.AxesSubplot at 0x247eb6980a0>"
      ]
     },
     "execution_count": 9,
     "metadata": {},
     "output_type": "execute_result"
    },
    {
     "data": {
      "image/png": "[encoded data removed]",
      "text/plain": [
       "<Figure size 1080x360 with 1 Axes>"
      ]
     },
     "metadata": {
      "needs_background": "light"
     },
     "output_type": "display_data"
    }
   ],
   "source": [
    "plt.figure(figsize=(15,5)) ## x and y axis\n",
    "sns.countplot(x=\"Product line\",data = dataFrame)"
   ]
  },
  {
   "cell_type": "markdown",
   "metadata": {},
   "source": [
    "#### 2.make it horizontal bar plot"
   ]
  },
  {
   "cell_type": "code",
   "execution_count": 10,
   "metadata": {},
   "outputs": [
    {
     "data": {
      "text/plain": [
       "<matplotlib.axes._subplots.AxesSubplot at 0x247ec559880>"
      ]
     },
     "execution_count": 10,
     "metadata": {},
     "output_type": "execute_result"
    },
    {
     "data": {
      "image/png": "[encoded data removed]",
      "text/plain": [
       "<Figure size 432x288 with 1 Axes>"
      ]
     },
     "metadata": {
      "needs_background": "light"
     },
     "output_type": "display_data"
    }
   ],
   "source": [
    "sns.countplot(y=\"Product line\",data = dataFrame)"
   ]
  },
  {
   "cell_type": "markdown",
   "metadata": {},
   "source": [
    "#### 3. add hue to get the count on two categories i.e product line and Gender"
   ]
  },
  {
   "cell_type": "code",
   "execution_count": 11,
   "metadata": {},
   "outputs": [
    {
     "data": {
      "text/plain": [
       "<matplotlib.axes._subplots.AxesSubplot at 0x247ecd87c10>"
      ]
     },
     "execution_count": 11,
     "metadata": {},
     "output_type": "execute_result"
    },
    {
     "data": {
      "image/png": "[encoded data removed]",
      "text/plain": [
       "<Figure size 1080x360 with 1 Axes>"
      ]
     },
     "metadata": {
      "needs_background": "light"
     },
     "output_type": "display_data"
    }
   ],
   "source": [
    "plt.figure(figsize=(15,5))\n",
    "sns.countplot(x=\"Product line\", hue=\"Gender\", data = dataFrame)"
   ]
  },
  {
   "cell_type": "markdown",
   "metadata": {},
   "source": [
    "#### 4.use different color palette"
   ]
  },
  {
   "cell_type": "code",
   "execution_count": 19,
   "metadata": {},
   "outputs": [
    {
     "data": {
      "text/plain": [
       "<matplotlib.axes._subplots.AxesSubplot at 0x247ec525e80>"
      ]
     },
     "execution_count": 19,
     "metadata": {},
     "output_type": "execute_result"
    },
    {
     "data": {
      "image/png": "[encoded data removed]",
      "text/plain": [
       "<Figure size 1080x360 with 1 Axes>"
      ]
     },
     "metadata": {
      "needs_background": "light"
     },
     "output_type": "display_data"
    }
   ],
   "source": [
    "plt.figure(figsize=(15,5))\n",
    "sns.countplot(x=\"Product line\", hue=\"Gender\", data = dataFrame,palette=\"winter_r\")"
   ]
  },
  {
   "cell_type": "markdown",
   "metadata": {},
   "source": [
    "#### 5.Change style using facecolor,linewidth and edge color"
   ]
  },
  {
   "cell_type": "code",
   "execution_count": 21,
   "metadata": {},
   "outputs": [
    {
     "data": {
      "text/plain": [
       "<matplotlib.axes._subplots.AxesSubplot at 0x247ed532a30>"
      ]
     },
     "execution_count": 21,
     "metadata": {},
     "output_type": "execute_result"
    },
    {
     "data": {
      "image/png": "[encoded data removed]",
      "text/plain": [
       "<Figure size 1080x360 with 1 Axes>"
      ]
     },
     "metadata": {
      "needs_background": "light"
     },
     "output_type": "display_data"
    }
   ],
   "source": [
    "plt.figure(figsize=(15,5))\n",
    "sns.countplot(x=\"Product line\", data = dataFrame,facecolor = (0,0,0,0),linewidth=5,edgecolor=sns.color_palette(\"dark\",3))"
   ]
  },
  {
   "cell_type": "code",
   "execution_count": null,
   "metadata": {},
   "outputs": [],
   "source": []
  }
 ],
 "metadata": {
  "kernelspec": {
   "display_name": "Python 3",
   "language": "python",
   "name": "python3"
  },
  "language_info": {
   "codemirror_mode": {
    "name": "ipython",
    "version": 3
   },
   "file_extension": ".py",
   "mimetype": "text/x-python",
   "name": "python",
   "nbconvert_exporter": "python",
   "pygments_lexer": "ipython3",
   "version": "3.8.3"
  }
 },
 "nbformat": 4,
 "nbformat_minor": 4
}
