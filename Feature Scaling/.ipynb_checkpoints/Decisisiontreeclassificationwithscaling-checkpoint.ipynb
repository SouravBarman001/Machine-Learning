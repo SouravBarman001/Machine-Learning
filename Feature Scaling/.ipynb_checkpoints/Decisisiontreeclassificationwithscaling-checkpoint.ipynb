{
 "cells": [
  {
   "cell_type": "code",
   "execution_count": 1,
   "metadata": {
    "executionInfo": {
     "elapsed": 744,
     "status": "ok",
     "timestamp": 1658135057933,
     "user": {
      "displayName": "Joy Bhowmik",
      "userId": "12476431407644373325"
     },
     "user_tz": -360
    },
    "id": "ubcJoIPqjH2K"
   },
   "outputs": [],
   "source": [
    "import pandas as pd"
   ]
  },
  {
   "cell_type": "code",
   "execution_count": 2,
   "metadata": {
    "colab": {
     "base_uri": "https://localhost:8080/",
     "height": 206
    },
    "executionInfo": {
     "elapsed": 733,
     "status": "ok",
     "timestamp": 1658135060948,
     "user": {
      "displayName": "Joy Bhowmik",
      "userId": "12476431407644373325"
     },
     "user_tz": -360
    },
    "id": "HcOzV3SKjJzk",
    "outputId": "090f9f7b-c1db-465c-d831-cba63ba25ee8"
   },
   "outputs": [
    {
     "data": {
      "text/html": [
       "<div>\n",
       "<style scoped>\n",
       "    .dataframe tbody tr th:only-of-type {\n",
       "        vertical-align: middle;\n",
       "    }\n",
       "\n",
       "    .dataframe tbody tr th {\n",
       "        vertical-align: top;\n",
       "    }\n",
       "\n",
       "    .dataframe thead th {\n",
       "        text-align: right;\n",
       "    }\n",
       "</style>\n",
       "<table border=\"1\" class=\"dataframe\">\n",
       "  <thead>\n",
       "    <tr style=\"text-align: right;\">\n",
       "      <th></th>\n",
       "      <th>age</th>\n",
       "      <th>sex</th>\n",
       "      <th>chest pain type</th>\n",
       "      <th>resting bp s</th>\n",
       "      <th>cholesterol</th>\n",
       "      <th>fasting blood sugar</th>\n",
       "      <th>resting ecg</th>\n",
       "      <th>max heart rate</th>\n",
       "      <th>exercise angina</th>\n",
       "      <th>oldpeak</th>\n",
       "      <th>ST slope</th>\n",
       "      <th>target</th>\n",
       "    </tr>\n",
       "  </thead>\n",
       "  <tbody>\n",
       "    <tr>\n",
       "      <th>0</th>\n",
       "      <td>40</td>\n",
       "      <td>1</td>\n",
       "      <td>2</td>\n",
       "      <td>140</td>\n",
       "      <td>289</td>\n",
       "      <td>0</td>\n",
       "      <td>0</td>\n",
       "      <td>172</td>\n",
       "      <td>0</td>\n",
       "      <td>0.0</td>\n",
       "      <td>1</td>\n",
       "      <td>0</td>\n",
       "    </tr>\n",
       "    <tr>\n",
       "      <th>1</th>\n",
       "      <td>49</td>\n",
       "      <td>0</td>\n",
       "      <td>3</td>\n",
       "      <td>160</td>\n",
       "      <td>180</td>\n",
       "      <td>0</td>\n",
       "      <td>0</td>\n",
       "      <td>156</td>\n",
       "      <td>0</td>\n",
       "      <td>1.0</td>\n",
       "      <td>2</td>\n",
       "      <td>1</td>\n",
       "    </tr>\n",
       "    <tr>\n",
       "      <th>2</th>\n",
       "      <td>37</td>\n",
       "      <td>1</td>\n",
       "      <td>2</td>\n",
       "      <td>130</td>\n",
       "      <td>283</td>\n",
       "      <td>0</td>\n",
       "      <td>1</td>\n",
       "      <td>98</td>\n",
       "      <td>0</td>\n",
       "      <td>0.0</td>\n",
       "      <td>1</td>\n",
       "      <td>0</td>\n",
       "    </tr>\n",
       "    <tr>\n",
       "      <th>3</th>\n",
       "      <td>48</td>\n",
       "      <td>0</td>\n",
       "      <td>4</td>\n",
       "      <td>138</td>\n",
       "      <td>214</td>\n",
       "      <td>0</td>\n",
       "      <td>0</td>\n",
       "      <td>108</td>\n",
       "      <td>1</td>\n",
       "      <td>1.5</td>\n",
       "      <td>2</td>\n",
       "      <td>1</td>\n",
       "    </tr>\n",
       "    <tr>\n",
       "      <th>4</th>\n",
       "      <td>54</td>\n",
       "      <td>1</td>\n",
       "      <td>3</td>\n",
       "      <td>150</td>\n",
       "      <td>195</td>\n",
       "      <td>0</td>\n",
       "      <td>0</td>\n",
       "      <td>122</td>\n",
       "      <td>0</td>\n",
       "      <td>0.0</td>\n",
       "      <td>1</td>\n",
       "      <td>0</td>\n",
       "    </tr>\n",
       "  </tbody>\n",
       "</table>\n",
       "</div>"
      ],
      "text/plain": [
       "   age  sex  chest pain type  resting bp s  cholesterol  fasting blood sugar  \\\n",
       "0   40    1                2           140          289                    0   \n",
       "1   49    0                3           160          180                    0   \n",
       "2   37    1                2           130          283                    0   \n",
       "3   48    0                4           138          214                    0   \n",
       "4   54    1                3           150          195                    0   \n",
       "\n",
       "   resting ecg  max heart rate  exercise angina  oldpeak  ST slope  target  \n",
       "0            0             172                0      0.0         1       0  \n",
       "1            0             156                0      1.0         2       1  \n",
       "2            1              98                0      0.0         1       0  \n",
       "3            0             108                1      1.5         2       1  \n",
       "4            0             122                0      0.0         1       0  "
      ]
     },
     "execution_count": 2,
     "metadata": {},
     "output_type": "execute_result"
    }
   ],
   "source": [
    "data=pd.read_csv('heart_statlog_cleveland_hungary_final.csv')\n",
    "data.head()"
   ]
  },
  {
   "cell_type": "code",
   "execution_count": 4,
   "metadata": {
    "executionInfo": {
     "elapsed": 735,
     "status": "ok",
     "timestamp": 1658135079439,
     "user": {
      "displayName": "Joy Bhowmik",
      "userId": "12476431407644373325"
     },
     "user_tz": -360
    },
    "id": "j9CwMsqyjS7L"
   },
   "outputs": [],
   "source": [
    "x=data.iloc[:,:-1]\n",
    "y=data.iloc[:,-1]"
   ]
  },
  {
   "cell_type": "code",
   "execution_count": 10,
   "metadata": {
    "executionInfo": {
     "elapsed": 1354,
     "status": "ok",
     "timestamp": 1658135252835,
     "user": {
      "displayName": "Joy Bhowmik",
      "userId": "12476431407644373325"
     },
     "user_tz": -360
    },
    "id": "HegesRxYjXME"
   },
   "outputs": [],
   "source": [
    "from sklearn.preprocessing import StandardScaler \n",
    "from sklearn.preprocessing import MinMaxScaler \n",
    "scaling=StandardScaler()\n",
    "minmax=MinMaxScaler()"
   ]
  },
  {
   "cell_type": "code",
   "execution_count": 11,
   "metadata": {
    "colab": {
     "base_uri": "https://localhost:8080/"
    },
    "executionInfo": {
     "elapsed": 434,
     "status": "ok",
     "timestamp": 1658135352324,
     "user": {
      "displayName": "Joy Bhowmik",
      "userId": "12476431407644373325"
     },
     "user_tz": -360
    },
    "id": "QiTCcuQ9kBI3",
    "outputId": "fe020e5e-7fee-419a-8434-99a86e648258"
   },
   "outputs": [
    {
     "data": {
      "text/plain": [
       "StandardScaler()"
      ]
     },
     "execution_count": 11,
     "metadata": {},
     "output_type": "execute_result"
    }
   ],
   "source": [
    "scaling.fit(x)  # standarization "
   ]
  },
  {
   "cell_type": "code",
   "execution_count": 12,
   "metadata": {
    "executionInfo": {
     "elapsed": 465,
     "status": "ok",
     "timestamp": 1658135474518,
     "user": {
      "displayName": "Joy Bhowmik",
      "userId": "12476431407644373325"
     },
     "user_tz": -360
    },
    "id": "XxtL7wbRkkMB"
   },
   "outputs": [],
   "source": [
    "x_scaled=scaling.transform(x) # feature scaling"
   ]
  },
  {
   "cell_type": "code",
   "execution_count": 13,
   "metadata": {
    "colab": {
     "base_uri": "https://localhost:8080/"
    },
    "executionInfo": {
     "elapsed": 503,
     "status": "ok",
     "timestamp": 1658135484503,
     "user": {
      "displayName": "Joy Bhowmik",
      "userId": "12476431407644373325"
     },
     "user_tz": -360
    },
    "id": "9SKjiiY1k4Fg",
    "outputId": "16881b14-e453-406c-a660-9d214e062481"
   },
   "outputs": [
    {
     "data": {
      "text/plain": [
       "array([[-1.46672783,  0.55599543, -1.31835093, ..., -0.79521891,\n",
       "        -0.84979236, -1.02321701],\n",
       "       [-0.50460037, -1.79857595, -0.24893198, ..., -0.79521891,\n",
       "         0.07111913,  0.61558278],\n",
       "       [-1.78743698,  0.55599543, -1.31835093, ..., -0.79521891,\n",
       "        -0.84979236, -1.02321701],\n",
       "       ...,\n",
       "       [ 0.35062404,  0.55599543,  0.82048698, ...,  1.25751537,\n",
       "         0.25530143,  0.61558278],\n",
       "       [ 0.35062404, -1.79857595, -1.31835093, ..., -0.79521891,\n",
       "        -0.84979236,  0.61558278],\n",
       "       [-1.68053393,  0.55599543, -0.24893198, ..., -0.79521891,\n",
       "        -0.84979236, -1.02321701]])"
      ]
     },
     "execution_count": 13,
     "metadata": {},
     "output_type": "execute_result"
    }
   ],
   "source": [
    "x_scaled"
   ]
  },
  {
   "cell_type": "code",
   "execution_count": 14,
   "metadata": {
    "executionInfo": {
     "elapsed": 447,
     "status": "ok",
     "timestamp": 1658135511650,
     "user": {
      "displayName": "Joy Bhowmik",
      "userId": "12476431407644373325"
     },
     "user_tz": -360
    },
    "id": "IeaI2iUJk6lc"
   },
   "outputs": [],
   "source": [
    "from sklearn.model_selection import train_test_split\n",
    "x_train,x_test,y_train,y_test = train_test_split(x_scaled,y,test_size=0.20,random_state=10)"
   ]
  },
  {
   "cell_type": "code",
   "execution_count": 15,
   "metadata": {
    "executionInfo": {
     "elapsed": 455,
     "status": "ok",
     "timestamp": 1658135533514,
     "user": {
      "displayName": "Joy Bhowmik",
      "userId": "12476431407644373325"
     },
     "user_tz": -360
    },
    "id": "eWAqeNKVlEEr"
   },
   "outputs": [],
   "source": [
    "from sklearn.tree import DecisionTreeClassifier  \n",
    "dt=DecisionTreeClassifier() \n",
    "dt_model=dt.fit(x_train,y_train) "
   ]
  },
  {
   "cell_type": "code",
   "execution_count": 16,
   "metadata": {
    "executionInfo": {
     "elapsed": 468,
     "status": "ok",
     "timestamp": 1658135544569,
     "user": {
      "displayName": "Joy Bhowmik",
      "userId": "12476431407644373325"
     },
     "user_tz": -360
    },
    "id": "JdncHm2nlFhN"
   },
   "outputs": [],
   "source": [
    "dt_predict=dt_model.predict(x_test) "
   ]
  },
  {
   "cell_type": "code",
   "execution_count": 17,
   "metadata": {
    "colab": {
     "base_uri": "https://localhost:8080/"
    },
    "executionInfo": {
     "elapsed": 11,
     "status": "ok",
     "timestamp": 1658135562531,
     "user": {
      "displayName": "Joy Bhowmik",
      "userId": "12476431407644373325"
     },
     "user_tz": -360
    },
    "id": "ktKa_aGWlI0W",
    "outputId": "cd224683-7d27-4ce8-dfaa-97b274d093fc"
   },
   "outputs": [
    {
     "name": "stdout",
     "output_type": "stream",
     "text": [
      "              precision    recall  f1-score   support\n",
      "\n",
      "           0       0.90      0.91      0.91       116\n",
      "           1       0.92      0.90      0.91       122\n",
      "\n",
      "    accuracy                           0.91       238\n",
      "   macro avg       0.91      0.91      0.91       238\n",
      "weighted avg       0.91      0.91      0.91       238\n",
      "\n"
     ]
    }
   ],
   "source": [
    "from sklearn.metrics import confusion_matrix,classification_report\n",
    "measured_values=classification_report(y_test,dt_predict)\n",
    "print(measured_values)"
   ]
  },
  {
   "cell_type": "code",
   "execution_count": 18,
   "metadata": {
    "colab": {
     "base_uri": "https://localhost:8080/",
     "height": 265
    },
    "executionInfo": {
     "elapsed": 533,
     "status": "ok",
     "timestamp": 1658135593573,
     "user": {
      "displayName": "Joy Bhowmik",
      "userId": "12476431407644373325"
     },
     "user_tz": -360
    },
    "id": "hJhTDmY5lQuI",
    "outputId": "acc25afb-840f-4aad-aea1-57702f3b5a7b"
   },
   "outputs": [
    {
     "data": {
      "image/png": "[encoded data removed]",
      "text/plain": [
       "<Figure size 432x288 with 2 Axes>"
      ]
     },
     "metadata": {
      "needs_background": "light"
     },
     "output_type": "display_data"
    }
   ],
   "source": [
    "import seaborn as sb\n",
    "import matplotlib.pyplot as plt\n",
    "cm=confusion_matrix(y_test,dt_predict)\n",
    "sb.heatmap(cm,annot=True)\n",
    "plt.show()"
   ]
  }
 ],
 "metadata": {
  "colab": {
   "authorship_tag": "ABX9TyPfjpsWobR9RmIzrFUriWap",
   "collapsed_sections": [],
   "name": "Decisision tree classification with scaling.ipynb",
   "provenance": []
  },
  "kernelspec": {
   "display_name": "Python 3",
   "language": "python",
   "name": "python3"
  },
  "language_info": {
   "codemirror_mode": {
    "name": "ipython",
    "version": 3
   },
   "file_extension": ".py",
   "mimetype": "text/x-python",
   "name": "python",
   "nbconvert_exporter": "python",
   "pygments_lexer": "ipython3",
   "version": "3.8.3"
  }
 },
 "nbformat": 4,
 "nbformat_minor": 1
}
